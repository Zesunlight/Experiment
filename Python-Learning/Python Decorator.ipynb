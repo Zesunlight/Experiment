{
 "cells": [
  {
   "cell_type": "markdown",
   "metadata": {},
   "source": [
    "#  Decorator"
   ]
  },
  {
   "cell_type": "code",
   "execution_count": 34,
   "metadata": {},
   "outputs": [],
   "source": [
    "import time"
   ]
  },
  {
   "cell_type": "code",
   "execution_count": 37,
   "metadata": {},
   "outputs": [],
   "source": [
    "def running_time(text = \"default\"):\n",
    "    def decorator(func):\n",
    "        print(f\"decorator: {text}\")\n",
    "        def wrapper(*args, **kwargs):\n",
    "            print(f\"calling {func.__name__}\")\n",
    "            before = time.time()\n",
    "            result = func(*args, **kwargs)\n",
    "            after = time.time()\n",
    "            print(f\"elapsed: {after - before}\")\n",
    "            return result\n",
    "        return wrapper\n",
    "    return decorator"
   ]
  },
  {
   "cell_type": "code",
   "execution_count": 38,
   "metadata": {},
   "outputs": [
    {
     "name": "stdout",
     "output_type": "stream",
     "text": [
      "decorator: test\n",
      "calling f\n",
      "f()\n",
      "elapsed: 0.0\n",
      "5\n"
     ]
    }
   ],
   "source": [
    "@running_time(\"test\")\n",
    "def f():\n",
    "    print(\"f()\")\n",
    "    return 5\n",
    "\n",
    "a = f()\n",
    "print(a)"
   ]
  },
  {
   "cell_type": "code",
   "execution_count": 47,
   "metadata": {},
   "outputs": [],
   "source": [
    "class running_time2:\n",
    "    def __init__(self, func):\n",
    "        self.func = func\n",
    "    \n",
    "    def __call__(self, *args, **kwargs):\n",
    "        before = time.time()\n",
    "        result = self.func(*args, **kwargs)\n",
    "        after = time.time()\n",
    "        print(f\"elapsed: {after - before}\")\n",
    "        return result"
   ]
  },
  {
   "cell_type": "code",
   "execution_count": 49,
   "metadata": {},
   "outputs": [
    {
     "name": "stdout",
     "output_type": "stream",
     "text": [
      "g()--6\n",
      "elapsed: 0.0\n",
      "3\n"
     ]
    }
   ],
   "source": [
    "@running_time2\n",
    "def g(x):\n",
    "    print(f\"g()--{x}\")\n",
    "    return 3\n",
    "\n",
    "b = g(6)\n",
    "print(b)"
   ]
  },
  {
   "cell_type": "code",
   "execution_count": null,
   "metadata": {},
   "outputs": [],
   "source": []
  }
 ],
 "metadata": {
  "kernelspec": {
   "display_name": "Python 3",
   "language": "python",
   "name": "python3"
  },
  "language_info": {
   "codemirror_mode": {
    "name": "ipython",
    "version": 3
   },
   "file_extension": ".py",
   "mimetype": "text/x-python",
   "name": "python",
   "nbconvert_exporter": "python",
   "pygments_lexer": "ipython3",
   "version": "3.6.8"
  }
 },
 "nbformat": 4,
 "nbformat_minor": 2
}
