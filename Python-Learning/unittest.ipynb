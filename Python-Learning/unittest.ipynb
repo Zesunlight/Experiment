{
 "cells": [
  {
   "cell_type": "code",
   "execution_count": 9,
   "metadata": {},
   "outputs": [],
   "source": [
    "import unittest"
   ]
  },
  {
   "cell_type": "code",
   "execution_count": 10,
   "metadata": {},
   "outputs": [],
   "source": [
    "class Person():\n",
    "    def __init__(self, name='Anonymous', age=0, gender='Unknown'):\n",
    "        self.name = name\n",
    "        self.age = age\n",
    "        self.gender = gender\n",
    "        self.praise = ''\n",
    "        \n",
    "    def show_information(self):\n",
    "        print(f'{self.name.title()}, age {self.age}, {self.gender}')\n",
    "        \n",
    "    def description(self):\n",
    "        if self.age < 15:\n",
    "            self.praise = 'kid'\n",
    "        elif self.age < 35:\n",
    "            self.praise = 'young'\n",
    "        elif self.age < 60:\n",
    "            self.praise = 'mature'\n",
    "        else:\n",
    "            self.praise = 'aged'"
   ]
  },
  {
   "cell_type": "code",
   "execution_count": 11,
   "metadata": {},
   "outputs": [],
   "source": [
    "class TestPerson(unittest.TestCase):\n",
    "    def setUp(self):\n",
    "        self.my_person = Person('zyz', 23, 'male')\n",
    "        self.response = 'young'\n",
    "        \n",
    "    def test_description(self):\n",
    "        self.my_person.description()\n",
    "        self.assertEqual(self.response, self.my_person.praise)\n",
    "        # self.assertNotEqual(a, b)\n",
    "        # self.assertIn(item, list)\n",
    "        # self.assertNotIn(item, list)\n",
    "        # self.assertTrue(x)\n",
    "        # self.assertFalse(x)"
   ]
  },
  {
   "cell_type": "code",
   "execution_count": 15,
   "metadata": {},
   "outputs": [
    {
     "name": "stderr",
     "output_type": "stream",
     "text": [
      ".\n",
      "----------------------------------------------------------------------\n",
      "Ran 1 test in 0.003s\n",
      "\n",
      "OK\n"
     ]
    },
    {
     "data": {
      "text/plain": [
       "<unittest.main.TestProgram at 0x25c923ace10>"
      ]
     },
     "execution_count": 15,
     "metadata": {},
     "output_type": "execute_result"
    }
   ],
   "source": [
    "unittest.main(argv=['first-arg-is-ignored'], exit=False)\n",
    "# just in jupyter notebook, need argv=['first-arg-is-ignored'], exit=False\n",
    "# https://stackoverflow.com/questions/37895781/unable-to-run-unittests-main-function-in-ipython-jupyter-notebook"
   ]
  },
  {
   "cell_type": "code",
   "execution_count": null,
   "metadata": {},
   "outputs": [],
   "source": []
  }
 ],
 "metadata": {
  "kernelspec": {
   "display_name": "Python 3",
   "language": "python",
   "name": "python3"
  },
  "language_info": {
   "codemirror_mode": {
    "name": "ipython",
    "version": 3
   },
   "file_extension": ".py",
   "mimetype": "text/x-python",
   "name": "python",
   "nbconvert_exporter": "python",
   "pygments_lexer": "ipython3",
   "version": "3.6.4"
  }
 },
 "nbformat": 4,
 "nbformat_minor": 2
}
