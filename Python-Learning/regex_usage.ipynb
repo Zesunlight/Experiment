{
 "cells": [
  {
   "cell_type": "code",
   "execution_count": 1,
   "metadata": {},
   "outputs": [],
   "source": [
    "import re"
   ]
  },
  {
   "cell_type": "code",
   "execution_count": 2,
   "metadata": {},
   "outputs": [
    {
     "name": "stdout",
     "output_type": "stream",
     "text": [
      "41\n"
     ]
    }
   ],
   "source": [
    "content = 'Hello 123 4567 World_This is a Regex Demo'\n",
    "print(len(content))"
   ]
  },
  {
   "cell_type": "markdown",
   "metadata": {},
   "source": [
    "## match(pattern, string, flags=0)\n",
    "\n",
    "match 方法会尝试从字符串的起始位置匹配正则表达式，\n",
    "\n",
    "如果匹配，就返回匹配成功的结果；如果不匹配，就返回 None\n",
    "\n",
    "一旦开头不匹配，那么整个匹配就失败了"
   ]
  },
  {
   "cell_type": "code",
   "execution_count": 3,
   "metadata": {},
   "outputs": [
    {
     "name": "stdout",
     "output_type": "stream",
     "text": [
      "<_sre.SRE_Match object; span=(0, 25), match='Hello 123 4567 World_This'>\n",
      "Hello 123 4567 World_This\n",
      "(0, 25)\n"
     ]
    }
   ],
   "source": [
    "result = re.match('^Hello\\s\\d+\\s\\d{4}\\s\\w*', content)\n",
    "print(result)\n",
    "print(result.group())  # 返回匹配的结果\n",
    "print(result.span())"
   ]
  },
  {
   "cell_type": "code",
   "execution_count": 4,
   "metadata": {},
   "outputs": [
    {
     "name": "stdout",
     "output_type": "stream",
     "text": [
      "Hello 123 4567 World_This is a Regex Demo\n",
      "(0, 41)\n"
     ]
    }
   ],
   "source": [
    "result = re.match('^Hello.*Demo$', content)\n",
    "print(result.group())\n",
    "print(result.span())"
   ]
  },
  {
   "cell_type": "code",
   "execution_count": 5,
   "metadata": {},
   "outputs": [
    {
     "name": "stdout",
     "output_type": "stream",
     "text": [
      "123\n",
      "7\n"
     ]
    }
   ],
   "source": [
    "result = re.match('^He.*?(\\d+).*(\\d+).*mo$', content)\n",
    "print(result.group(1))  # 返回对应 () 里的结果\n",
    "print(result.group(2))"
   ]
  },
  {
   "cell_type": "code",
   "execution_count": 6,
   "metadata": {},
   "outputs": [
    {
     "name": "stdout",
     "output_type": "stream",
     "text": [
      "1234567\n"
     ]
    }
   ],
   "source": [
    "content_2 = '''Hello 1234567 World_This\n",
    "is a Regex Demo\n",
    "'''\n",
    "result = re.match('^He.*?(\\d+).*?Demo$', content_2, re.S)\n",
    "# re.S 的作用是使 . 匹配包括换行符在内的所有字符\n",
    "# re.I 使匹配对大小写不敏感\n",
    "print(result.group(1))"
   ]
  },
  {
   "cell_type": "markdown",
   "metadata": {},
   "source": [
    "## search(pattern, string, flags=0)\n",
    "\n",
    "它在匹配时会扫描整个字符串，然后返回第一个成功匹配的结果。\n",
    "\n",
    "如果搜索完了还没有找到，就返回 None。"
   ]
  },
  {
   "cell_type": "code",
   "execution_count": 7,
   "metadata": {},
   "outputs": [
    {
     "name": "stdout",
     "output_type": "stream",
     "text": [
      "Hello\n",
      "(13, 18)\n"
     ]
    }
   ],
   "source": [
    "content = 'Extra stings Hello 1234567 is a Hello789 Extra stings'\n",
    "result = re.search('Hello(\\d*)', content)\n",
    "print(result.group())\n",
    "print(result.span())"
   ]
  },
  {
   "cell_type": "markdown",
   "metadata": {},
   "source": [
    "## findall(pattern, string, flags=0)\n",
    "\n",
    "该方法会搜索整个字符串，然后返回匹配正则表达式的所有内容\n",
    "\n",
    "如果有匹配结果的话，返回一个元组的列表（如果样式里有超过一个组合的话）"
   ]
  },
  {
   "cell_type": "code",
   "execution_count": 8,
   "metadata": {},
   "outputs": [
    {
     "name": "stdout",
     "output_type": "stream",
     "text": [
      "['Hello', 'Hello789']\n"
     ]
    }
   ],
   "source": [
    "content = 'Hello 1234567 is a Hello789 Extra stings'\n",
    "results = re.findall('Hello\\d*', content)\n",
    "print(results)"
   ]
  },
  {
   "cell_type": "markdown",
   "metadata": {},
   "source": [
    "## sub(pattern, repl, string, count=0, flags=0)\n",
    "\n",
    "替换或删除特定信息"
   ]
  },
  {
   "cell_type": "code",
   "execution_count": 9,
   "metadata": {},
   "outputs": [
    {
     "name": "stdout",
     "output_type": "stream",
     "text": [
      "aKyroiRixLg\n",
      "-K----R--L-\n"
     ]
    }
   ],
   "source": [
    "content = '54aK54yr5oiR54ix5L2g'\n",
    "content = re.sub('\\d+', '', content)\n",
    "print(content)\n",
    "content = re.sub('[a-z]', '-', content)\n",
    "print(content)"
   ]
  },
  {
   "cell_type": "markdown",
   "metadata": {},
   "source": [
    "## split(pattern, string, maxsplit=0, flags=0)\n",
    "用 pattern 分开 string \n",
    "\n",
    "如果在 pattern 中捕获到括号，那么所有的组里的文字也会包含在列表里。\n",
    "\n",
    "如果 maxsplit 非零， 最多进行 maxsplit 次分隔， 剩下的字符全部返回到列表的最后一个元素。"
   ]
  },
  {
   "cell_type": "code",
   "execution_count": 10,
   "metadata": {},
   "outputs": [
    {
     "data": {
      "text/plain": [
       "['Words', 'words', 'words', '']"
      ]
     },
     "execution_count": 10,
     "metadata": {},
     "output_type": "execute_result"
    }
   ],
   "source": [
    "re.split('\\W+', 'Words, words, words.')  # 非字母划分"
   ]
  },
  {
   "cell_type": "code",
   "execution_count": 11,
   "metadata": {},
   "outputs": [
    {
     "data": {
      "text/plain": [
       "['Words', ', ', 'words', ', ', 'words', '.', '']"
      ]
     },
     "execution_count": 11,
     "metadata": {},
     "output_type": "execute_result"
    }
   ],
   "source": [
    "re.split(r'(\\W+)', 'Words, words, words.')"
   ]
  },
  {
   "cell_type": "code",
   "execution_count": 12,
   "metadata": {},
   "outputs": [
    {
     "data": {
      "text/plain": [
       "['Words', 'words, words.']"
      ]
     },
     "execution_count": 12,
     "metadata": {},
     "output_type": "execute_result"
    }
   ],
   "source": [
    "re.split(r'\\W+', 'Words, words, words.', 1)"
   ]
  },
  {
   "cell_type": "markdown",
   "metadata": {},
   "source": [
    "## compile(pattern, flags=0)\n",
    "\n",
    "将正则字符串编译成正则表达式对象，以便在后面的匹配中复用\n",
    "\n",
    "```\n",
    "prog = re.compile(pattern)\n",
    "result = prog.match(string)\n",
    "```\n",
    "\n",
    "等价于\n",
    "\n",
    "```\n",
    "result = re.match(pattern, string)\n",
    "```"
   ]
  },
  {
   "cell_type": "code",
   "execution_count": 13,
   "metadata": {},
   "outputs": [
    {
     "name": "stdout",
     "output_type": "stream",
     "text": [
      "['12:00']\n",
      "2016-12-15 \n"
     ]
    }
   ],
   "source": [
    "content1 = '2016-12-15 12:00'\n",
    "content2 = '2016-12-17 12:55'\n",
    "content3 = '2016-12-22 13:21'\n",
    "pattern = re.compile('\\d{2}:\\d{2}')\n",
    "print(pattern.findall(content1))\n",
    "print(pattern.sub('', content1))"
   ]
  },
  {
   "cell_type": "markdown",
   "metadata": {},
   "source": [
    "## 参考\n",
    "https://docs.python.org/zh-cn/3.6/library/re.html#module-re"
   ]
  }
 ],
 "metadata": {
  "kernelspec": {
   "display_name": "Python 3",
   "language": "python",
   "name": "python3"
  },
  "language_info": {
   "codemirror_mode": {
    "name": "ipython",
    "version": 3
   },
   "file_extension": ".py",
   "mimetype": "text/x-python",
   "name": "python",
   "nbconvert_exporter": "python",
   "pygments_lexer": "ipython3",
   "version": "3.6.8"
  },
  "varInspector": {
   "cols": {
    "lenName": 16,
    "lenType": 16,
    "lenVar": 40
   },
   "kernels_config": {
    "python": {
     "delete_cmd_postfix": "",
     "delete_cmd_prefix": "del ",
     "library": "var_list.py",
     "varRefreshCmd": "print(var_dic_list())"
    },
    "r": {
     "delete_cmd_postfix": ") ",
     "delete_cmd_prefix": "rm(",
     "library": "var_list.r",
     "varRefreshCmd": "cat(var_dic_list()) "
    }
   },
   "types_to_exclude": [
    "module",
    "function",
    "builtin_function_or_method",
    "instance",
    "_Feature"
   ],
   "window_display": false
  }
 },
 "nbformat": 4,
 "nbformat_minor": 2
}
